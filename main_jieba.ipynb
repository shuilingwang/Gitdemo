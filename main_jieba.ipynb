{
 "cells": [
  {
   "cell_type": "markdown",
   "id": "99a1c8d6-9890-4168-a5e2-1237695e14ae",
   "metadata": {},
   "source": [
    "# 结巴分词实践"
   ]
  },
  {
   "cell_type": "markdown",
   "id": "7a3d6212-7ade-456c-ae8c-2557eeeff9c3",
   "metadata": {},
   "source": [
    "## 结巴分词的三种模式"
   ]
  },
  {
   "cell_type": "markdown",
   "id": "9f359939-9566-4d2b-b159-67d56368af71",
   "metadata": {},
   "source": [
    "### 全模式"
   ]
  },
  {
   "cell_type": "code",
   "execution_count": 4,
   "id": "f51c12d6-d7d8-4922-abcd-d4c3a7b9231d",
   "metadata": {},
   "outputs": [
    {
     "name": "stderr",
     "output_type": "stream",
     "text": [
      "Building prefix dict from the default dictionary ...\n",
      "Dumping model to file cache C:\\Users\\cherish\\AppData\\Local\\Temp\\jieba.cache\n",
      "Loading model cost 0.942 seconds.\n",
      "Prefix dict has been built successfully.\n"
     ]
    },
    {
     "name": "stdout",
     "output_type": "stream",
     "text": [
      "Full Mode:我/来到/北京/清华/清华大学/华大/大学\n"
     ]
    }
   ],
   "source": [
    "import jieba\n",
    "seg_list = jieba.cut(\"我来到北京清华大学\",cut_all=True)\n",
    "print(\"Full Mode:\" + \"/\".join(seg_list))  #全模式"
   ]
  },
  {
   "cell_type": "markdown",
   "id": "9930231a-e906-4b14-a17a-a8fd3a46069c",
   "metadata": {},
   "source": [
    "### 精确模式"
   ]
  },
  {
   "cell_type": "code",
   "execution_count": 7,
   "id": "711dfa62-3dbf-4722-94fd-0e6401fbb5c0",
   "metadata": {},
   "outputs": [
    {
     "name": "stdout",
     "output_type": "stream",
     "text": [
      "Default Mode:我/来到/北京/清华/清华大学/华大/大学\n"
     ]
    }
   ],
   "source": [
    "seg_list = jieba.cut(\"我来到北京清华大学\",cut_all=True)\n",
    "print(\"Default Mode:\" + \"/\".join(seg_list)) #精确模式"
   ]
  },
  {
   "cell_type": "markdown",
   "id": "2bae091f-c45f-4970-87c1-7492f18e30d5",
   "metadata": {},
   "source": [
    "### 搜索引擎模式"
   ]
  },
  {
   "cell_type": "code",
   "execution_count": 8,
   "id": "04e41209-b406-4a7d-a7ad-34713f70e68e",
   "metadata": {},
   "outputs": [
    {
     "name": "stdout",
     "output_type": "stream",
     "text": [
      "小明,硕士,毕业,于,中国,科学,学院,科学院,中国科学院,计算,计算所,，,后,在,日本,京都,大学,日本京都大学,深造\n"
     ]
    }
   ],
   "source": [
    "seg_list = jieba.cut_for_search(\"小明硕士毕业于中国科学院计算所，后在日本京都大学深造\") #搜索引擎模式\n",
    "print(\",\".join(seg_list)) "
   ]
  },
  {
   "cell_type": "markdown",
   "id": "da1a3ffc-e451-4a4d-9635-0252c3679950",
   "metadata": {},
   "source": [
    "## 载入词典"
   ]
  },
  {
   "cell_type": "code",
   "execution_count": 7,
   "id": "2b2005d7-bf88-4363-a1e4-fbc963228570",
   "metadata": {},
   "outputs": [
    {
     "name": "stdout",
     "output_type": "stream",
     "text": [
      "Full Mode:王水灵/即将/是/自然语言/处理/方面/的/高手\n"
     ]
    }
   ],
   "source": [
    "jieba.load_userdict(\"userdict.txt\") # file_name \n",
    "seg_list = jieba.cut(\"王水灵即将是自然语言处理方面的高手\",cut_all=False,HMM=False)\n",
    "print(\"Full Mode:\" + \"/\".join(seg_list))"
   ]
  },
  {
   "cell_type": "code",
   "execution_count": 8,
   "id": "469bf2d0-7764-4d9c-9045-0540ee63c399",
   "metadata": {},
   "outputs": [
    {
     "name": "stdout",
     "output_type": "stream",
     "text": [
      "重点\n",
      "大学\n",
      "国家\n",
      "河北省\n",
      "共建\n"
     ]
    }
   ],
   "source": [
    "import jieba.analyse\n",
    "\n",
    "# 给定要提取关键词的句子\n",
    "sentence = \"燕山大学是河北省人民政府、教育部、工业和信息化部、国家国防科技工业局四方共建的全国重点大学，河北省重点支持的国家一流大学和世界一流学科建设高校，北京高科大学联盟成员。\"\n",
    "\n",
    "# 使用TextRank算法提取关键词\n",
    "# topK=5表示提取前5个关键词\n",
    "# withWeight=False表示返回的结果中不包含关键词的权重\n",
    "# allowPOS=('ns', 'n', 'vn', 'v') 表示允许提取的词性为地名、名词、名动词、动词，可根据需求调整\n",
    "keywords = jieba.analyse.textrank(sentence, topK=5, withWeight=False, allowPOS=('ns', 'n', 'vn', 'v'))\n",
    "\n",
    "# 输出提取到的关键词\n",
    "for keyword in keywords:\n",
    "    print(keyword)"
   ]
  }
 ],
 "metadata": {
  "kernelspec": {
   "display_name": "Python 3 (ipykernel)",
   "language": "python",
   "name": "python3"
  },
  "language_info": {
   "codemirror_mode": {
    "name": "ipython",
    "version": 3
   },
   "file_extension": ".py",
   "mimetype": "text/x-python",
   "name": "python",
   "nbconvert_exporter": "python",
   "pygments_lexer": "ipython3",
   "version": "3.10.16"
  }
 },
 "nbformat": 4,
 "nbformat_minor": 5
}
